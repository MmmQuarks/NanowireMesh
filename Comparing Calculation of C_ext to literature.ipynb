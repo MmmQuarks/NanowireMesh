{
 "cells": [
  {
   "cell_type": "code",
   "execution_count": 4,
   "metadata": {
    "tags": []
   },
   "outputs": [],
   "source": [
    "import NanowireMesh as nwm\n",
    "import numpy as np\n",
    "import NanowireNetworkEvolutionFunctions as nnef\n",
    "from matplotlib import pyplot as plt\n",
    "from pathlib import Path\n",
    "import pandas as pd\n",
    "from scipy.special import jv, jvp, hankel1, h1vp"
   ]
  },
  {
   "cell_type": "markdown",
   "metadata": {},
   "source": [
    "Extracting the data from bergen2012 (https://pubs.rsc.org/en/content/articlelanding/2012/nr/c2nr30126a/unauth)"
   ]
  },
  {
   "cell_type": "code",
   "execution_count": 5,
   "metadata": {
    "tags": []
   },
   "outputs": [],
   "source": [
    "df = pd.read_csv(\n",
    "    'berginEffectNanowireLength2012_extincion_efficiency_extracted.csv',\n",
    "    header = None,\n",
    "    names = ['Diameter (nm)', 'Efficiency']\n",
    ")\n",
    " "
   ]
  },
  {
   "cell_type": "markdown",
   "metadata": {},
   "source": [
    "generating simulated data. Remember that the bergen data got the non-dimensional efficiency by dividing the extinction coefficient, C_ext by the nanowire diameter"
   ]
  },
  {
   "cell_type": "code",
   "execution_count": 14,
   "metadata": {
    "tags": []
   },
   "outputs": [
    {
     "data": {
      "text/html": [
       "<div>\n",
       "<style scoped>\n",
       "    .dataframe tbody tr th:only-of-type {\n",
       "        vertical-align: middle;\n",
       "    }\n",
       "\n",
       "    .dataframe tbody tr th {\n",
       "        vertical-align: top;\n",
       "    }\n",
       "\n",
       "    .dataframe thead th {\n",
       "        text-align: right;\n",
       "    }\n",
       "</style>\n",
       "<table border=\"1\" class=\"dataframe\">\n",
       "  <thead>\n",
       "    <tr style=\"text-align: right;\">\n",
       "      <th></th>\n",
       "      <th>Diameter (nm)</th>\n",
       "      <th>Efficiency</th>\n",
       "      <th>adam</th>\n",
       "    </tr>\n",
       "  </thead>\n",
       "  <tbody>\n",
       "    <tr>\n",
       "      <th>0</th>\n",
       "      <td>9.714286</td>\n",
       "      <td>0.125000</td>\n",
       "      <td>0.221126</td>\n",
       "    </tr>\n",
       "    <tr>\n",
       "      <th>1</th>\n",
       "      <td>20.000000</td>\n",
       "      <td>0.227273</td>\n",
       "      <td>0.863857</td>\n",
       "    </tr>\n",
       "    <tr>\n",
       "      <th>2</th>\n",
       "      <td>29.714286</td>\n",
       "      <td>0.420455</td>\n",
       "      <td>1.529391</td>\n",
       "    </tr>\n",
       "    <tr>\n",
       "      <th>3</th>\n",
       "      <td>39.428571</td>\n",
       "      <td>0.619318</td>\n",
       "      <td>2.125879</td>\n",
       "    </tr>\n",
       "    <tr>\n",
       "      <th>4</th>\n",
       "      <td>50.285714</td>\n",
       "      <td>0.806818</td>\n",
       "      <td>2.719971</td>\n",
       "    </tr>\n",
       "    <tr>\n",
       "      <th>5</th>\n",
       "      <td>74.857143</td>\n",
       "      <td>1.198864</td>\n",
       "      <td>3.607643</td>\n",
       "    </tr>\n",
       "    <tr>\n",
       "      <th>6</th>\n",
       "      <td>100.000000</td>\n",
       "      <td>1.505682</td>\n",
       "      <td>3.851340</td>\n",
       "    </tr>\n",
       "    <tr>\n",
       "      <th>7</th>\n",
       "      <td>149.714286</td>\n",
       "      <td>1.812500</td>\n",
       "      <td>4.275126</td>\n",
       "    </tr>\n",
       "    <tr>\n",
       "      <th>8</th>\n",
       "      <td>200.000000</td>\n",
       "      <td>2.039773</td>\n",
       "      <td>4.392590</td>\n",
       "    </tr>\n",
       "    <tr>\n",
       "      <th>9</th>\n",
       "      <td>249.714286</td>\n",
       "      <td>2.090909</td>\n",
       "      <td>4.498660</td>\n",
       "    </tr>\n",
       "    <tr>\n",
       "      <th>10</th>\n",
       "      <td>300.000000</td>\n",
       "      <td>2.153409</td>\n",
       "      <td>4.588173</td>\n",
       "    </tr>\n",
       "  </tbody>\n",
       "</table>\n",
       "</div>"
      ],
      "text/plain": [
       "    Diameter (nm)  Efficiency      adam\n",
       "0        9.714286    0.125000  0.221126\n",
       "1       20.000000    0.227273  0.863857\n",
       "2       29.714286    0.420455  1.529391\n",
       "3       39.428571    0.619318  2.125879\n",
       "4       50.285714    0.806818  2.719971\n",
       "5       74.857143    1.198864  3.607643\n",
       "6      100.000000    1.505682  3.851340\n",
       "7      149.714286    1.812500  4.275126\n",
       "8      200.000000    2.039773  4.392590\n",
       "9      249.714286    2.090909  4.498660\n",
       "10     300.000000    2.153409  4.588173"
      ]
     },
     "execution_count": 14,
     "metadata": {},
     "output_type": "execute_result"
    }
   ],
   "source": [
    "df['adam'] = df.apply(\n",
    "    lambda x : nwm.extinction_coefficient(\n",
    "        radius = x['Diameter (nm)']*1E-9,\n",
    "        mr = 0.055 + 3.32j,\n",
    "        wavelength = 550E-9\n",
    "    ) / (x['Diameter (nm)'] * 1E-9),\n",
    "    axis = 1\n",
    ")\n",
    "df"
   ]
  },
  {
   "cell_type": "code",
   "execution_count": 20,
   "metadata": {
    "tags": []
   },
   "outputs": [
    {
     "data": {
      "text/html": [
       "<div>\n",
       "<style scoped>\n",
       "    .dataframe tbody tr th:only-of-type {\n",
       "        vertical-align: middle;\n",
       "    }\n",
       "\n",
       "    .dataframe tbody tr th {\n",
       "        vertical-align: top;\n",
       "    }\n",
       "\n",
       "    .dataframe thead th {\n",
       "        text-align: right;\n",
       "    }\n",
       "</style>\n",
       "<table border=\"1\" class=\"dataframe\">\n",
       "  <thead>\n",
       "    <tr style=\"text-align: right;\">\n",
       "      <th></th>\n",
       "      <th>Diameter (nm)</th>\n",
       "      <th>Length (um)</th>\n",
       "      <th>C_ext / wire area</th>\n",
       "      <th>adam C_ext / wire area</th>\n",
       "    </tr>\n",
       "  </thead>\n",
       "  <tbody>\n",
       "    <tr>\n",
       "      <th>0</th>\n",
       "      <td>100</td>\n",
       "      <td>36.0</td>\n",
       "      <td>1.590</td>\n",
       "      <td>1.242903</td>\n",
       "    </tr>\n",
       "    <tr>\n",
       "      <th>1</th>\n",
       "      <td>70</td>\n",
       "      <td>16.0</td>\n",
       "      <td>1.120</td>\n",
       "      <td>0.840646</td>\n",
       "    </tr>\n",
       "    <tr>\n",
       "      <th>2</th>\n",
       "      <td>56</td>\n",
       "      <td>8.6</td>\n",
       "      <td>0.814</td>\n",
       "      <td>0.629623</td>\n",
       "    </tr>\n",
       "    <tr>\n",
       "      <th>3</th>\n",
       "      <td>71</td>\n",
       "      <td>7.6</td>\n",
       "      <td>1.140</td>\n",
       "      <td>0.855081</td>\n",
       "    </tr>\n",
       "    <tr>\n",
       "      <th>4</th>\n",
       "      <td>132</td>\n",
       "      <td>14.8</td>\n",
       "      <td>1.830</td>\n",
       "      <td>1.592745</td>\n",
       "    </tr>\n",
       "    <tr>\n",
       "      <th>5</th>\n",
       "      <td>153</td>\n",
       "      <td>4.8</td>\n",
       "      <td>1.910</td>\n",
       "      <td>1.750103</td>\n",
       "    </tr>\n",
       "  </tbody>\n",
       "</table>\n",
       "</div>"
      ],
      "text/plain": [
       "   Diameter (nm)  Length (um)  C_ext / wire area  adam C_ext / wire area\n",
       "0            100         36.0              1.590                1.242903\n",
       "1             70         16.0              1.120                0.840646\n",
       "2             56          8.6              0.814                0.629623\n",
       "3             71          7.6              1.140                0.855081\n",
       "4            132         14.8              1.830                1.592745\n",
       "5            153          4.8              1.910                1.750103"
      ]
     },
     "execution_count": 20,
     "metadata": {},
     "output_type": "execute_result"
    }
   ],
   "source": [
    "khanarian_df = pd.DataFrame()\n",
    "khanarian_df['Diameter (nm)'] = 100,70,56,71,132,153\n",
    "khanarian_df['Length (um)'] = 36, 16, 8.6, 7.6, 14.8, 4.8\n",
    "khanarian_df['C_ext / wire area'] = 1.59, 1.12, 0.814, 1.14, 1.83, 1.91\n",
    "khanarian_df['adam C_ext / wire area'] = khanarian_df.apply(\n",
    "    lambda x : nwm.extinction_coefficient(\n",
    "        radius = x['Diameter (nm)'] / 2 * 1E-9,\n",
    "        mr = 0.055 + 3.32j,\n",
    "        wavelength = 600E-9\n",
    "    ) / (x['Diameter (nm)']*1E-9),\n",
    "    axis = 1\n",
    ")\n",
    "khanarian_df\n"
   ]
  },
  {
   "cell_type": "code",
   "execution_count": 21,
   "metadata": {
    "tags": []
   },
   "outputs": [
    {
     "data": {
      "text/plain": [
       "0    1.279263\n",
       "1    1.332309\n",
       "2    1.292836\n",
       "3    1.333208\n",
       "4    1.148960\n",
       "5    1.091364\n",
       "dtype: float64"
      ]
     },
     "execution_count": 21,
     "metadata": {},
     "output_type": "execute_result"
    }
   ],
   "source": [
    "khanarian_df.iloc[:,2] / khanarian_df.iloc[:,3]"
   ]
  }
 ],
 "metadata": {
  "kernelspec": {
   "display_name": "Python 3 (ipykernel)",
   "language": "python",
   "name": "python3"
  },
  "language_info": {
   "codemirror_mode": {
    "name": "ipython",
    "version": 3
   },
   "file_extension": ".py",
   "mimetype": "text/x-python",
   "name": "python",
   "nbconvert_exporter": "python",
   "pygments_lexer": "ipython3",
   "version": "3.11.0"
  }
 },
 "nbformat": 4,
 "nbformat_minor": 4
}
